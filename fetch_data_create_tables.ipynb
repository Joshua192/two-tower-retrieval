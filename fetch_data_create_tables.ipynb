{
 "cells": [
  {
   "cell_type": "code",
   "execution_count": 1,
   "id": "ea85c4ea",
   "metadata": {},
   "outputs": [],
   "source": [
    "from datasets import load_dataset\n",
    "\n",
    "ds = load_dataset(\"microsoft/ms_marco\", \"v1.1\")"
   ]
  },
  {
   "cell_type": "markdown",
   "id": "4d5eea51",
   "metadata": {},
   "source": [
    "# Collecting and splitting datasets\n"
   ]
  },
  {
   "cell_type": "code",
   "execution_count": 2,
   "id": "008d010a",
   "metadata": {},
   "outputs": [],
   "source": [
    "train_dataset = load_dataset(\"microsoft/ms_marco\", \"v1.1\", split=\"train\")\n",
    "valid_dataset = load_dataset(\"microsoft/ms_marco\", \"v1.1\", split=\"validation\")\n",
    "test_dataset  = load_dataset(\"microsoft/ms_marco\", \"v1.1\", split=\"test\")"
   ]
  },
  {
   "cell_type": "code",
   "execution_count": 3,
   "id": "a48da184",
   "metadata": {},
   "outputs": [
    {
     "data": {
      "text/html": [
       "<div>\n",
       "<style scoped>\n",
       "    .dataframe tbody tr th:only-of-type {\n",
       "        vertical-align: middle;\n",
       "    }\n",
       "\n",
       "    .dataframe tbody tr th {\n",
       "        vertical-align: top;\n",
       "    }\n",
       "\n",
       "    .dataframe thead th {\n",
       "        text-align: right;\n",
       "    }\n",
       "</style>\n",
       "<table border=\"1\" class=\"dataframe\">\n",
       "  <thead>\n",
       "    <tr style=\"text-align: right;\">\n",
       "      <th></th>\n",
       "      <th>answers</th>\n",
       "      <th>passages</th>\n",
       "      <th>query</th>\n",
       "      <th>query_id</th>\n",
       "      <th>query_type</th>\n",
       "      <th>wellFormedAnswers</th>\n",
       "    </tr>\n",
       "  </thead>\n",
       "  <tbody>\n",
       "    <tr>\n",
       "      <th>0</th>\n",
       "      <td>[Results-Based Accountability is a disciplined...</td>\n",
       "      <td>{'is_selected': [0, 0, 0, 0, 0, 1, 0, 0, 0, 0]...</td>\n",
       "      <td>what is rba</td>\n",
       "      <td>19699</td>\n",
       "      <td>description</td>\n",
       "      <td>[]</td>\n",
       "    </tr>\n",
       "    <tr>\n",
       "      <th>1</th>\n",
       "      <td>[Yes]</td>\n",
       "      <td>{'is_selected': [0, 1, 0, 0, 0, 0, 0], 'passag...</td>\n",
       "      <td>was ronald reagan a democrat</td>\n",
       "      <td>19700</td>\n",
       "      <td>description</td>\n",
       "      <td>[]</td>\n",
       "    </tr>\n",
       "    <tr>\n",
       "      <th>2</th>\n",
       "      <td>[20-25 minutes]</td>\n",
       "      <td>{'is_selected': [0, 0, 0, 0, 1, 0, 0, 0, 0, 0]...</td>\n",
       "      <td>how long do you need for sydney and surroundin...</td>\n",
       "      <td>19701</td>\n",
       "      <td>numeric</td>\n",
       "      <td>[]</td>\n",
       "    </tr>\n",
       "    <tr>\n",
       "      <th>3</th>\n",
       "      <td>[$11 to $22 per square foot]</td>\n",
       "      <td>{'is_selected': [0, 0, 0, 0, 0, 0, 0, 0, 1], '...</td>\n",
       "      <td>price to install tile in shower</td>\n",
       "      <td>19702</td>\n",
       "      <td>numeric</td>\n",
       "      <td>[]</td>\n",
       "    </tr>\n",
       "    <tr>\n",
       "      <th>4</th>\n",
       "      <td>[Due to symptoms in the body]</td>\n",
       "      <td>{'is_selected': [0, 0, 1, 0, 0, 0, 0, 0], 'pas...</td>\n",
       "      <td>why conversion observed in body</td>\n",
       "      <td>19703</td>\n",
       "      <td>description</td>\n",
       "      <td>[]</td>\n",
       "    </tr>\n",
       "  </tbody>\n",
       "</table>\n",
       "</div>"
      ],
      "text/plain": [
       "                                             answers  \\\n",
       "0  [Results-Based Accountability is a disciplined...   \n",
       "1                                              [Yes]   \n",
       "2                                    [20-25 minutes]   \n",
       "3                       [$11 to $22 per square foot]   \n",
       "4                      [Due to symptoms in the body]   \n",
       "\n",
       "                                            passages  \\\n",
       "0  {'is_selected': [0, 0, 0, 0, 0, 1, 0, 0, 0, 0]...   \n",
       "1  {'is_selected': [0, 1, 0, 0, 0, 0, 0], 'passag...   \n",
       "2  {'is_selected': [0, 0, 0, 0, 1, 0, 0, 0, 0, 0]...   \n",
       "3  {'is_selected': [0, 0, 0, 0, 0, 0, 0, 0, 1], '...   \n",
       "4  {'is_selected': [0, 0, 1, 0, 0, 0, 0, 0], 'pas...   \n",
       "\n",
       "                                               query  query_id   query_type  \\\n",
       "0                                        what is rba     19699  description   \n",
       "1                       was ronald reagan a democrat     19700  description   \n",
       "2  how long do you need for sydney and surroundin...     19701      numeric   \n",
       "3                    price to install tile in shower     19702      numeric   \n",
       "4                    why conversion observed in body     19703  description   \n",
       "\n",
       "  wellFormedAnswers  \n",
       "0                []  \n",
       "1                []  \n",
       "2                []  \n",
       "3                []  \n",
       "4                []  "
      ]
     },
     "execution_count": 3,
     "metadata": {},
     "output_type": "execute_result"
    }
   ],
   "source": [
    "import pandas as pd\n",
    "main = pd.DataFrame(train_dataset)\n",
    "main.head()"
   ]
  },
  {
   "cell_type": "markdown",
   "id": "056024ba",
   "metadata": {},
   "source": [
    "# Create Query db\n"
   ]
  },
  {
   "cell_type": "code",
   "execution_count": 4,
   "id": "550be548",
   "metadata": {},
   "outputs": [
    {
     "data": {
      "text/html": [
       "<div>\n",
       "<style scoped>\n",
       "    .dataframe tbody tr th:only-of-type {\n",
       "        vertical-align: middle;\n",
       "    }\n",
       "\n",
       "    .dataframe tbody tr th {\n",
       "        vertical-align: top;\n",
       "    }\n",
       "\n",
       "    .dataframe thead th {\n",
       "        text-align: right;\n",
       "    }\n",
       "</style>\n",
       "<table border=\"1\" class=\"dataframe\">\n",
       "  <thead>\n",
       "    <tr style=\"text-align: right;\">\n",
       "      <th></th>\n",
       "      <th>query</th>\n",
       "      <th>query_id</th>\n",
       "    </tr>\n",
       "  </thead>\n",
       "  <tbody>\n",
       "    <tr>\n",
       "      <th>0</th>\n",
       "      <td>what is rba</td>\n",
       "      <td>19699</td>\n",
       "    </tr>\n",
       "    <tr>\n",
       "      <th>1</th>\n",
       "      <td>was ronald reagan a democrat</td>\n",
       "      <td>19700</td>\n",
       "    </tr>\n",
       "    <tr>\n",
       "      <th>2</th>\n",
       "      <td>how long do you need for sydney and surroundin...</td>\n",
       "      <td>19701</td>\n",
       "    </tr>\n",
       "    <tr>\n",
       "      <th>3</th>\n",
       "      <td>price to install tile in shower</td>\n",
       "      <td>19702</td>\n",
       "    </tr>\n",
       "    <tr>\n",
       "      <th>4</th>\n",
       "      <td>why conversion observed in body</td>\n",
       "      <td>19703</td>\n",
       "    </tr>\n",
       "  </tbody>\n",
       "</table>\n",
       "</div>"
      ],
      "text/plain": [
       "                                               query  query_id\n",
       "0                                        what is rba     19699\n",
       "1                       was ronald reagan a democrat     19700\n",
       "2  how long do you need for sydney and surroundin...     19701\n",
       "3                    price to install tile in shower     19702\n",
       "4                    why conversion observed in body     19703"
      ]
     },
     "execution_count": 4,
     "metadata": {},
     "output_type": "execute_result"
    }
   ],
   "source": [
    "query_db = pd.DataFrame()\n",
    "query_db = main[['query','query_id']]\n",
    "query_db.head()"
   ]
  },
  {
   "cell_type": "markdown",
   "id": "38ba3d35",
   "metadata": {},
   "source": [
    "# Create Document db\n"
   ]
  },
  {
   "cell_type": "code",
   "execution_count": 5,
   "id": "804f3ffc",
   "metadata": {},
   "outputs": [
    {
     "name": "stdout",
     "output_type": "stream",
     "text": [
      "doc_count:  676193\n",
      "\n",
      "de-deuplicated docs:  626907\n"
     ]
    }
   ],
   "source": [
    "docs = []\n",
    "for x in range(0,len(main['passages'])):\n",
    "    for doc in main['passages'][x]['passage_text']:\n",
    "        docs.append(doc)\n",
    "\n",
    "print('doc_count: ', len(docs))\n",
    "#remove duplicates\n",
    "docs = set(docs)\n",
    "print('\\nde-deuplicated docs: ', len(docs))"
   ]
  },
  {
   "cell_type": "code",
   "execution_count": 6,
   "id": "a558c832",
   "metadata": {},
   "outputs": [
    {
     "name": "stdout",
     "output_type": "stream",
     "text": [
      "[(0, 'The central nervous system relies on pathways and higher order functions to transfer information to various parts of the brain, giving the body sensory and motor ability. There is a constant interaction going on between the brain, spinal cord, and the peripheral nervous system (PNS). Pathways are either ascending (sensory) or descending (motor) and contain tracts and nuclei, where signals from one neuron to another creates a synapse. They are in the skin, joints, muscles and viscera (Noback 155). Sensory systems transmit information regarding intensity. Receptors of pain are called nociceptors. Each of the pathways involve a chain of neurons named accordingly, a first order neuron is a neuron that delivers directly to the CNS or its cell body.'), (1, 'The NGC contains 7,840 objects, known as the NGC objects. It is one of the largest comprehensive catalogues, as it includes all types of deep space objects and is not confined to, for example, galaxies. Dreyer published two supplements to the NGC, known as the Index Catalogues (abbreviated as IC). It serves as a supplement to the NGC, and contains an additional 5,386 objects, collectively known as the IC objects. It summarizes the discoveries of galaxies, clusters and nebulae between 1888 and 1907. A list of corrections to the IC was published in 1912.'), (2, 'Escitalopram is not associated with significant weight gain. For example, 0.6 kg mean weight change after 6 months of treatment with escitalopram for depression was insignificant and similar to that with placebo (0.2 kg). It is approved by the U.S. Food and Drug Administration (FDA) for the treatment of adults and children over 12 years of age with major depressive disorder (MDD) and generalized anxiety disorder (GAD).'), (3, '1 Venus is the hottest planet in the Solar System, even hotter than Mercury, which is closer to the Sun. 2  The temperature on the surface of Venus is about 860° Fahrenheit or 460° Celsius. 3  Compare this to a warm summer’s day in London, when the temperature might be 80° Fahrenheit or 26° Celsius. 1 Venus is called after the Roman Goddess of love and beauty. 2  Venus is the planet which is closest to the Earth and is a little smaller than the Earth. 3  The diameter of the Earth (the distance right round the middle of the Earth at the equator) is 12,760 kilometres, or 7926 miles.'), (4, 'Let’s look at the numbers Investing outside of super Salary sacrificing into super Amount Carol wishes to invest p.a. $5,000 $5,000Tax $1,725 – Carol’s tax rate is 34.5% $750 – salary sacrifice contributions are taxed at 15%Net amount available to invest p.a. Salary sacrifice is an arrangement between you and your employer where you agree to reallocate part of your before-tax salary to be contributed to your superannuation. What are the benefits? Generally, salary sacrificing into super increases the level of your retirement savings.')]\n"
     ]
    }
   ],
   "source": [
    "docs = list(enumerate(docs))\n",
    "print(docs[:5])"
   ]
  },
  {
   "cell_type": "code",
   "execution_count": 7,
   "id": "e5f74c84",
   "metadata": {},
   "outputs": [
    {
     "data": {
      "text/html": [
       "<div>\n",
       "<style scoped>\n",
       "    .dataframe tbody tr th:only-of-type {\n",
       "        vertical-align: middle;\n",
       "    }\n",
       "\n",
       "    .dataframe tbody tr th {\n",
       "        vertical-align: top;\n",
       "    }\n",
       "\n",
       "    .dataframe thead th {\n",
       "        text-align: right;\n",
       "    }\n",
       "</style>\n",
       "<table border=\"1\" class=\"dataframe\">\n",
       "  <thead>\n",
       "    <tr style=\"text-align: right;\">\n",
       "      <th></th>\n",
       "      <th>document_id</th>\n",
       "      <th>document</th>\n",
       "    </tr>\n",
       "  </thead>\n",
       "  <tbody>\n",
       "    <tr>\n",
       "      <th>0</th>\n",
       "      <td>0</td>\n",
       "      <td>The central nervous system relies on pathways ...</td>\n",
       "    </tr>\n",
       "    <tr>\n",
       "      <th>1</th>\n",
       "      <td>1</td>\n",
       "      <td>The NGC contains 7,840 objects, known as the N...</td>\n",
       "    </tr>\n",
       "    <tr>\n",
       "      <th>2</th>\n",
       "      <td>2</td>\n",
       "      <td>Escitalopram is not associated with significan...</td>\n",
       "    </tr>\n",
       "    <tr>\n",
       "      <th>3</th>\n",
       "      <td>3</td>\n",
       "      <td>1 Venus is the hottest planet in the Solar Sys...</td>\n",
       "    </tr>\n",
       "    <tr>\n",
       "      <th>4</th>\n",
       "      <td>4</td>\n",
       "      <td>Let’s look at the numbers Investing outside of...</td>\n",
       "    </tr>\n",
       "  </tbody>\n",
       "</table>\n",
       "</div>"
      ],
      "text/plain": [
       "   document_id                                           document\n",
       "0            0  The central nervous system relies on pathways ...\n",
       "1            1  The NGC contains 7,840 objects, known as the N...\n",
       "2            2  Escitalopram is not associated with significan...\n",
       "3            3  1 Venus is the hottest planet in the Solar Sys...\n",
       "4            4  Let’s look at the numbers Investing outside of..."
      ]
     },
     "execution_count": 7,
     "metadata": {},
     "output_type": "execute_result"
    }
   ],
   "source": [
    "doc_db = pd.DataFrame()\n",
    "doc_db = pd.DataFrame([{'document_id': i[0], 'document': i[1]} for i in docs])\n",
    "doc_db.head()"
   ]
  },
  {
   "cell_type": "code",
   "execution_count": null,
   "id": "a62f378c",
   "metadata": {},
   "outputs": [
    {
     "ename": "KeyboardInterrupt",
     "evalue": "",
     "output_type": "error",
     "traceback": [
      "\u001b[1;31m---------------------------------------------------------------------------\u001b[0m",
      "\u001b[1;31mKeyboardInterrupt\u001b[0m                         Traceback (most recent call last)",
      "Cell \u001b[1;32mIn[8], line 7\u001b[0m\n\u001b[0;32m      5\u001b[0m \u001b[38;5;28;01mif\u001b[39;00m select: \u001b[38;5;66;03m# wher iter == 1 . [0, 0, 1, 0, 0] and [0, 1, 1, 0, 0] types exist\u001b[39;00m\n\u001b[0;32m      6\u001b[0m     positive_document \u001b[38;5;241m=\u001b[39m main[\u001b[38;5;124m'\u001b[39m\u001b[38;5;124mpassages\u001b[39m\u001b[38;5;124m'\u001b[39m][x][\u001b[38;5;124m'\u001b[39m\u001b[38;5;124mpassage_text\u001b[39m\u001b[38;5;124m'\u001b[39m][idx]\n\u001b[1;32m----> 7\u001b[0m     match \u001b[38;5;241m=\u001b[39m doc_db\u001b[38;5;241m.\u001b[39mloc[doc_db[\u001b[38;5;124m'\u001b[39m\u001b[38;5;124mdocument\u001b[39m\u001b[38;5;124m'\u001b[39m] \u001b[38;5;241m==\u001b[39m positive_document, \u001b[38;5;124m'\u001b[39m\u001b[38;5;124mdocument_id\u001b[39m\u001b[38;5;124m'\u001b[39m]\n\u001b[0;32m      9\u001b[0m     \u001b[38;5;28;01mif\u001b[39;00m \u001b[38;5;129;01mnot\u001b[39;00m match\u001b[38;5;241m.\u001b[39mempty:\n\u001b[0;32m     10\u001b[0m         positive_document_id \u001b[38;5;241m=\u001b[39m match\u001b[38;5;241m.\u001b[39miloc[\u001b[38;5;241m0\u001b[39m]\n",
      "File \u001b[1;32mc:\\Users\\Joshua\\anaconda3\\envs\\MLI\\Lib\\site-packages\\pandas\\core\\ops\\common.py:76\u001b[0m, in \u001b[0;36m_unpack_zerodim_and_defer.<locals>.new_method\u001b[1;34m(self, other)\u001b[0m\n\u001b[0;32m     72\u001b[0m             \u001b[38;5;28;01mreturn\u001b[39;00m \u001b[38;5;28mNotImplemented\u001b[39m\n\u001b[0;32m     74\u001b[0m other \u001b[38;5;241m=\u001b[39m item_from_zerodim(other)\n\u001b[1;32m---> 76\u001b[0m \u001b[38;5;28;01mreturn\u001b[39;00m method(\u001b[38;5;28mself\u001b[39m, other)\n",
      "File \u001b[1;32mc:\\Users\\Joshua\\anaconda3\\envs\\MLI\\Lib\\site-packages\\pandas\\core\\arraylike.py:40\u001b[0m, in \u001b[0;36mOpsMixin.__eq__\u001b[1;34m(self, other)\u001b[0m\n\u001b[0;32m     38\u001b[0m \u001b[38;5;129m@unpack_zerodim_and_defer\u001b[39m(\u001b[38;5;124m\"\u001b[39m\u001b[38;5;124m__eq__\u001b[39m\u001b[38;5;124m\"\u001b[39m)\n\u001b[0;32m     39\u001b[0m \u001b[38;5;28;01mdef\u001b[39;00m \u001b[38;5;21m__eq__\u001b[39m(\u001b[38;5;28mself\u001b[39m, other):\n\u001b[1;32m---> 40\u001b[0m     \u001b[38;5;28;01mreturn\u001b[39;00m \u001b[38;5;28mself\u001b[39m\u001b[38;5;241m.\u001b[39m_cmp_method(other, operator\u001b[38;5;241m.\u001b[39meq)\n",
      "File \u001b[1;32mc:\\Users\\Joshua\\anaconda3\\envs\\MLI\\Lib\\site-packages\\pandas\\core\\series.py:6119\u001b[0m, in \u001b[0;36mSeries._cmp_method\u001b[1;34m(self, other, op)\u001b[0m\n\u001b[0;32m   6116\u001b[0m lvalues \u001b[38;5;241m=\u001b[39m \u001b[38;5;28mself\u001b[39m\u001b[38;5;241m.\u001b[39m_values\n\u001b[0;32m   6117\u001b[0m rvalues \u001b[38;5;241m=\u001b[39m extract_array(other, extract_numpy\u001b[38;5;241m=\u001b[39m\u001b[38;5;28;01mTrue\u001b[39;00m, extract_range\u001b[38;5;241m=\u001b[39m\u001b[38;5;28;01mTrue\u001b[39;00m)\n\u001b[1;32m-> 6119\u001b[0m res_values \u001b[38;5;241m=\u001b[39m ops\u001b[38;5;241m.\u001b[39mcomparison_op(lvalues, rvalues, op)\n\u001b[0;32m   6121\u001b[0m \u001b[38;5;28;01mreturn\u001b[39;00m \u001b[38;5;28mself\u001b[39m\u001b[38;5;241m.\u001b[39m_construct_result(res_values, name\u001b[38;5;241m=\u001b[39mres_name)\n",
      "File \u001b[1;32mc:\\Users\\Joshua\\anaconda3\\envs\\MLI\\Lib\\site-packages\\pandas\\core\\ops\\array_ops.py:344\u001b[0m, in \u001b[0;36mcomparison_op\u001b[1;34m(left, right, op)\u001b[0m\n\u001b[0;32m    341\u001b[0m     \u001b[38;5;28;01mreturn\u001b[39;00m invalid_comparison(lvalues, rvalues, op)\n\u001b[0;32m    343\u001b[0m \u001b[38;5;28;01melif\u001b[39;00m lvalues\u001b[38;5;241m.\u001b[39mdtype \u001b[38;5;241m==\u001b[39m \u001b[38;5;28mobject\u001b[39m \u001b[38;5;129;01mor\u001b[39;00m \u001b[38;5;28misinstance\u001b[39m(rvalues, \u001b[38;5;28mstr\u001b[39m):\n\u001b[1;32m--> 344\u001b[0m     res_values \u001b[38;5;241m=\u001b[39m comp_method_OBJECT_ARRAY(op, lvalues, rvalues)\n\u001b[0;32m    346\u001b[0m \u001b[38;5;28;01melse\u001b[39;00m:\n\u001b[0;32m    347\u001b[0m     res_values \u001b[38;5;241m=\u001b[39m _na_arithmetic_op(lvalues, rvalues, op, is_cmp\u001b[38;5;241m=\u001b[39m\u001b[38;5;28;01mTrue\u001b[39;00m)\n",
      "File \u001b[1;32mc:\\Users\\Joshua\\anaconda3\\envs\\MLI\\Lib\\site-packages\\pandas\\core\\ops\\array_ops.py:130\u001b[0m, in \u001b[0;36mcomp_method_OBJECT_ARRAY\u001b[1;34m(op, x, y)\u001b[0m\n\u001b[0;32m    128\u001b[0m \u001b[38;5;28;01melse\u001b[39;00m:\n\u001b[0;32m    129\u001b[0m     result \u001b[38;5;241m=\u001b[39m libops\u001b[38;5;241m.\u001b[39mscalar_compare(x\u001b[38;5;241m.\u001b[39mravel(), y, op)\n\u001b[1;32m--> 130\u001b[0m \u001b[38;5;28;01mreturn\u001b[39;00m result\u001b[38;5;241m.\u001b[39mreshape(x\u001b[38;5;241m.\u001b[39mshape)\n",
      "\u001b[1;31mKeyboardInterrupt\u001b[0m: "
     ]
    }
   ],
   "source": [
    "###An abomination of a program I wrote to do what I acheived in the cell below. Not my best work \n",
    "# query_doc_rows = []\n",
    "# positive_document = \"\"\n",
    "# for x in range(0, len(main['passages'])):\n",
    "#     for idx, select in enumerate(main['passages'][x]['is_selected']):\n",
    "#         if select: # wher iter == 1 . [0, 0, 1, 0, 0] and [0, 1, 1, 0, 0] types exist\n",
    "#             positive_document = main['passages'][x]['passage_text'][idx]\n",
    "#             match = doc_db.loc[doc_db['document'] == positive_document, 'document_id']\n",
    "\n",
    "#             if not match.empty:\n",
    "#                 positive_document_id = match.iloc[0]\n",
    "#                 # print(\"\\npositive_doc_id, \", positive_document_id)\n",
    "#                 # print(\"query_id, \", main['query_id'][x])\n",
    "#                 query_doc_rows.append({\n",
    "#                 'query_id': main['query_id'][x],\n",
    "#                 'positive_doc_id': positive_document_id\n",
    "#                 })"
   ]
  },
  {
   "cell_type": "code",
   "execution_count": 9,
   "id": "7ce0e91e",
   "metadata": {},
   "outputs": [],
   "source": [
    "positive_rows = []\n",
    "\n",
    "for x in range(len(main['passages'])):\n",
    "    for idx, select in enumerate(main['passages'][x]['is_selected']):\n",
    "        if select == 1:\n",
    "            positive_rows.append({\n",
    "                'query_id': main['query_id'][x],\n",
    "                'document': main['passages'][x]['passage_text'][idx]\n",
    "            })\n",
    "\n",
    "positive_df = pd.DataFrame(positive_rows)\n",
    "query_doc_db = positive_df.merge(doc_db, on='document', how='inner')\n",
    "query_doc_db = query_doc_db[['query_id', 'document_id']].rename(columns={'document_id': 'positive_doc_id'})"
   ]
  },
  {
   "cell_type": "code",
   "execution_count": 10,
   "id": "9d7e7fb3",
   "metadata": {},
   "outputs": [
    {
     "data": {
      "text/html": [
       "<div>\n",
       "<style scoped>\n",
       "    .dataframe tbody tr th:only-of-type {\n",
       "        vertical-align: middle;\n",
       "    }\n",
       "\n",
       "    .dataframe tbody tr th {\n",
       "        vertical-align: top;\n",
       "    }\n",
       "\n",
       "    .dataframe thead th {\n",
       "        text-align: right;\n",
       "    }\n",
       "</style>\n",
       "<table border=\"1\" class=\"dataframe\">\n",
       "  <thead>\n",
       "    <tr style=\"text-align: right;\">\n",
       "      <th></th>\n",
       "      <th>query_id</th>\n",
       "      <th>positive_doc_id</th>\n",
       "    </tr>\n",
       "  </thead>\n",
       "  <tbody>\n",
       "    <tr>\n",
       "      <th>0</th>\n",
       "      <td>19699</td>\n",
       "      <td>269519</td>\n",
       "    </tr>\n",
       "    <tr>\n",
       "      <th>1</th>\n",
       "      <td>19700</td>\n",
       "      <td>436823</td>\n",
       "    </tr>\n",
       "    <tr>\n",
       "      <th>2</th>\n",
       "      <td>19701</td>\n",
       "      <td>111815</td>\n",
       "    </tr>\n",
       "    <tr>\n",
       "      <th>3</th>\n",
       "      <td>19702</td>\n",
       "      <td>318722</td>\n",
       "    </tr>\n",
       "    <tr>\n",
       "      <th>4</th>\n",
       "      <td>19703</td>\n",
       "      <td>593515</td>\n",
       "    </tr>\n",
       "  </tbody>\n",
       "</table>\n",
       "</div>"
      ],
      "text/plain": [
       "   query_id  positive_doc_id\n",
       "0     19699           269519\n",
       "1     19700           436823\n",
       "2     19701           111815\n",
       "3     19702           318722\n",
       "4     19703           593515"
      ]
     },
     "execution_count": 10,
     "metadata": {},
     "output_type": "execute_result"
    }
   ],
   "source": [
    "query_doc_db = pd.DataFrame(query_doc_rows)\n",
    "query_doc_db.head()"
   ]
  },
  {
   "cell_type": "code",
   "execution_count": 11,
   "id": "af2b7b05",
   "metadata": {},
   "outputs": [],
   "source": [
    "## Export Dataframes to csv\n",
    "query_db.to_csv(\"./data/query_db.csv\", index=False)\n",
    "doc_db.to_csv(\"./data/doc_db.csv\", index=False)\n",
    "query_doc_db.to_csv(\"./data/query_doc_db.csv\", index=False)"
   ]
  }
 ],
 "metadata": {
  "kernelspec": {
   "display_name": "MLI",
   "language": "python",
   "name": "python3"
  },
  "language_info": {
   "codemirror_mode": {
    "name": "ipython",
    "version": 3
   },
   "file_extension": ".py",
   "mimetype": "text/x-python",
   "name": "python",
   "nbconvert_exporter": "python",
   "pygments_lexer": "ipython3",
   "version": "3.11.11"
  }
 },
 "nbformat": 4,
 "nbformat_minor": 5
}
